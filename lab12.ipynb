{
 "cells": [
  {
   "cell_type": "code",
   "execution_count": 1,
   "id": "7762e7a7",
   "metadata": {},
   "outputs": [
    {
     "data": {
      "text/plain": [
       "array([2.06379278, 4.0400227 , 4.42600845, 9.67230375, 1.6300694 ,\n",
       "       8.84146328, 8.19954204, 2.72532056, 2.78753505, 8.05775599,\n",
       "       0.26131702, 2.59726294, 9.88330987, 2.41176172, 5.36026143,\n",
       "       3.39104253, 9.03909771, 5.9092979 , 8.79931076, 2.38405669,\n",
       "       7.72755215, 0.06393864, 7.5072726 , 0.05532205, 8.55350372,\n",
       "       7.91629852, 2.43000936, 0.61560588, 9.67512448, 6.14464341,\n",
       "       6.3585487 , 6.82714255, 4.33250551, 9.36438431, 2.00228712,\n",
       "       0.55328644, 4.42584922, 3.48447157, 4.40930656, 2.71207109,\n",
       "       9.58544678, 2.99739707, 5.77273456, 4.48521153, 8.87082009,\n",
       "       5.42005236, 1.91792773, 0.32581256, 8.12055948, 2.63032958,\n",
       "       6.70577452, 5.30470554, 9.01126111, 1.08701279, 6.77530788,\n",
       "       4.88020265, 0.6862105 , 9.42027939, 2.43250429, 3.41794166,\n",
       "       5.90447105, 0.02661074, 3.05767364, 6.77084953, 0.71487672,\n",
       "       3.3653356 , 0.58987732, 9.81493616, 3.91589547, 6.55862932,\n",
       "       3.50909702, 1.78798293, 7.59467604, 4.14473528, 1.19687078,\n",
       "       7.37316486, 2.66885968, 2.17976802, 6.86914634, 7.3009035 ,\n",
       "       7.90973143, 9.69520323, 5.66026462, 9.0008162 , 8.20420254,\n",
       "       9.04426499, 0.6552143 , 2.2909958 , 3.65951005, 1.06116217,\n",
       "       6.2708786 , 0.0782882 , 2.35223179, 2.45235164, 6.10984076,\n",
       "       3.35342173, 9.54595883, 5.18205007, 2.86292925, 0.37683893])"
      ]
     },
     "execution_count": 1,
     "metadata": {},
     "output_type": "execute_result"
    }
   ],
   "source": [
    "#compare different polynomial regression models\n",
    "\n",
    "#random dataset\n",
    "import numpy as np\n",
    "x = np.random.uniform(0, 10, 100)\n",
    "x"
   ]
  },
  {
   "cell_type": "code",
   "execution_count": 2,
   "id": "7b7a4f29",
   "metadata": {},
   "outputs": [
    {
     "data": {
      "text/html": [
       "<div>\n",
       "<style scoped>\n",
       "    .dataframe tbody tr th:only-of-type {\n",
       "        vertical-align: middle;\n",
       "    }\n",
       "\n",
       "    .dataframe tbody tr th {\n",
       "        vertical-align: top;\n",
       "    }\n",
       "\n",
       "    .dataframe thead th {\n",
       "        text-align: right;\n",
       "    }\n",
       "</style>\n",
       "<table border=\"1\" class=\"dataframe\">\n",
       "  <thead>\n",
       "    <tr style=\"text-align: right;\">\n",
       "      <th></th>\n",
       "      <th>x</th>\n",
       "    </tr>\n",
       "  </thead>\n",
       "  <tbody>\n",
       "    <tr>\n",
       "      <th>0</th>\n",
       "      <td>2.063793</td>\n",
       "    </tr>\n",
       "    <tr>\n",
       "      <th>1</th>\n",
       "      <td>4.040023</td>\n",
       "    </tr>\n",
       "    <tr>\n",
       "      <th>2</th>\n",
       "      <td>4.426008</td>\n",
       "    </tr>\n",
       "    <tr>\n",
       "      <th>3</th>\n",
       "      <td>9.672304</td>\n",
       "    </tr>\n",
       "    <tr>\n",
       "      <th>4</th>\n",
       "      <td>1.630069</td>\n",
       "    </tr>\n",
       "    <tr>\n",
       "      <th>...</th>\n",
       "      <td>...</td>\n",
       "    </tr>\n",
       "    <tr>\n",
       "      <th>95</th>\n",
       "      <td>3.353422</td>\n",
       "    </tr>\n",
       "    <tr>\n",
       "      <th>96</th>\n",
       "      <td>9.545959</td>\n",
       "    </tr>\n",
       "    <tr>\n",
       "      <th>97</th>\n",
       "      <td>5.182050</td>\n",
       "    </tr>\n",
       "    <tr>\n",
       "      <th>98</th>\n",
       "      <td>2.862929</td>\n",
       "    </tr>\n",
       "    <tr>\n",
       "      <th>99</th>\n",
       "      <td>0.376839</td>\n",
       "    </tr>\n",
       "  </tbody>\n",
       "</table>\n",
       "<p>100 rows × 1 columns</p>\n",
       "</div>"
      ],
      "text/plain": [
       "           x\n",
       "0   2.063793\n",
       "1   4.040023\n",
       "2   4.426008\n",
       "3   9.672304\n",
       "4   1.630069\n",
       "..       ...\n",
       "95  3.353422\n",
       "96  9.545959\n",
       "97  5.182050\n",
       "98  2.862929\n",
       "99  0.376839\n",
       "\n",
       "[100 rows x 1 columns]"
      ]
     },
     "execution_count": 2,
     "metadata": {},
     "output_type": "execute_result"
    }
   ],
   "source": [
    "import pandas as pd\n",
    "df = pd.DataFrame({\"x\": x})\n",
    "df"
   ]
  },
  {
   "cell_type": "code",
   "execution_count": 3,
   "id": "2861ca24",
   "metadata": {},
   "outputs": [
    {
     "data": {
      "text/plain": [
       "<AxesSubplot:xlabel='x', ylabel='y'>"
      ]
     },
     "execution_count": 3,
     "metadata": {},
     "output_type": "execute_result"
    },
    {
     "data": {
      "image/png": "[encoded data removed]",
      "text/plain": [
       "<Figure size 432x288 with 1 Axes>"
      ]
     },
     "metadata": {
      "needs_background": "light"
     },
     "output_type": "display_data"
    }
   ],
   "source": [
    "#y = 2x + 5, add the y column and plot the relationship\n",
    "df[\"y\"] = df[\"x\"] * 2 + 5 + np.random.normal(scale=3, size=100) #adds random noise\n",
    "df.plot.scatter(x=\"x\", y=\"y\")"
   ]
  },
  {
   "cell_type": "code",
   "execution_count": 4,
   "id": "211b162f",
   "metadata": {},
   "outputs": [
    {
     "data": {
      "text/plain": [
       "<AxesSubplot:xlabel='x', ylabel='y'>"
      ]
     },
     "execution_count": 4,
     "metadata": {},
     "output_type": "execute_result"
    },
    {
     "data": {
      "image/png": "[encoded data removed]",
      "text/plain": [
       "<Figure size 432x288 with 1 Axes>"
      ]
     },
     "metadata": {
      "needs_background": "light"
     },
     "output_type": "display_data"
    }
   ],
   "source": [
    "#now for y = 5x - x^2 + 50\n",
    "df[\"y\"] = df[\"x\"] * 5 - df[\"x\"]**2 + 50 + np.random.normal(scale=8, size=100) \n",
    "df.plot.scatter(x=\"x\", y=\"y\")"
   ]
  },
  {
   "cell_type": "code",
   "execution_count": 5,
   "id": "99ed3774",
   "metadata": {},
   "outputs": [
    {
     "data": {
      "text/plain": [
       "(75, 25)"
      ]
     },
     "execution_count": 5,
     "metadata": {},
     "output_type": "execute_result"
    }
   ],
   "source": [
    "from sklearn.pipeline import Pipeline\n",
    "from sklearn.preprocessing import PolynomialFeatures\n",
    "from sklearn.linear_model import LinearRegression\n",
    "from sklearn.model_selection import train_test_split, cross_val_score\n",
    "\n",
    "train, test = train_test_split(df)\n",
    "len(train), len(test)"
   ]
  },
  {
   "cell_type": "code",
   "execution_count": 6,
   "id": "bb68d020",
   "metadata": {},
   "outputs": [
    {
     "data": {
      "text/html": [
       "<div>\n",
       "<style scoped>\n",
       "    .dataframe tbody tr th:only-of-type {\n",
       "        vertical-align: middle;\n",
       "    }\n",
       "\n",
       "    .dataframe tbody tr th {\n",
       "        vertical-align: top;\n",
       "    }\n",
       "\n",
       "    .dataframe thead th {\n",
       "        text-align: right;\n",
       "    }\n",
       "</style>\n",
       "<table border=\"1\" class=\"dataframe\">\n",
       "  <thead>\n",
       "    <tr style=\"text-align: right;\">\n",
       "      <th></th>\n",
       "      <th>score</th>\n",
       "      <th>std_dev</th>\n",
       "    </tr>\n",
       "  </thead>\n",
       "  <tbody>\n",
       "    <tr>\n",
       "      <th>degree 2</th>\n",
       "      <td>0.433335</td>\n",
       "      <td>0.352408</td>\n",
       "    </tr>\n",
       "  </tbody>\n",
       "</table>\n",
       "</div>"
      ],
      "text/plain": [
       "             score   std_dev\n",
       "degree 2  0.433335  0.352408"
      ]
     },
     "execution_count": 6,
     "metadata": {},
     "output_type": "execute_result"
    }
   ],
   "source": [
    "#2nd degree regression model pipeline\n",
    "scores_df = pd.DataFrame()\n",
    "\n",
    "degree = 2\n",
    "model = Pipeline([\n",
    "    (\"poly\", PolynomialFeatures(degree=degree, include_bias=False)),\n",
    "    (\"model\", LinearRegression()),\n",
    "])\n",
    "scores = cross_val_score(model, train[[\"y\"]], train[\"x\"])\n",
    "scores_df.at[f\"degree {degree}\", \"score\"] = scores.mean()\n",
    "scores_df.at[f\"degree {degree}\", \"std_dev\"] = scores.std()\n",
    "scores_df"
   ]
  },
  {
   "cell_type": "code",
   "execution_count": 7,
   "id": "3bbae850",
   "metadata": {},
   "outputs": [
    {
     "data": {
      "text/plain": [
       "<AxesSubplot:>"
      ]
     },
     "execution_count": 7,
     "metadata": {},
     "output_type": "execute_result"
    },
    {
     "data": {
      "image/png": "[encoded data removed]",
      "text/plain": [
       "<Figure size 432x288 with 1 Axes>"
      ]
     },
     "metadata": {
      "needs_background": "light"
     },
     "output_type": "display_data"
    }
   ],
   "source": [
    "#one bar plot showing average explained variance of the model and the standard devation of the scores\n",
    "scores_df[\"score\"].plot.bar(yerr=scores_df[\"std_dev\"])"
   ]
  },
  {
   "cell_type": "code",
   "execution_count": 19,
   "id": "833ad0dc",
   "metadata": {},
   "outputs": [
    {
     "data": {
      "text/plain": [
       "<AxesSubplot:>"
      ]
     },
     "execution_count": 19,
     "metadata": {},
     "output_type": "execute_result"
    },
    {
     "data": {
      "image/png": "[encoded data removed]",
      "text/plain": [
       "<Figure size 432x288 with 1 Axes>"
      ]
     },
     "metadata": {
      "needs_background": "light"
     },
     "output_type": "display_data"
    }
   ],
   "source": [
    "#n degree models\n",
    "scores_df = pd.DataFrame()\n",
    "\n",
    "for degree in range(1, 11):\n",
    "    degree = degree\n",
    "    model = Pipeline([\n",
    "        (\"poly\", PolynomialFeatures(degree=degree, include_bias=False)),\n",
    "        (\"model\", LinearRegression()),\n",
    "    ])\n",
    "    scores = cross_val_score(model, train[[\"y\"]], train[\"x\"])\n",
    "    scores_df.at[f\"degree {degree}\", \"score\"] = scores.mean()\n",
    "    scores_df.at[f\"degree {degree}\", \"std_dev\"] = scores.std()\n",
    "    \n",
    "scores_df[\"score\"].plot.bar(yerr=scores_df[\"std_dev\"])"
   ]
  },
  {
   "cell_type": "code",
   "execution_count": null,
   "id": "a420d796",
   "metadata": {},
   "outputs": [],
   "source": []
  }
 ],
 "metadata": {
  "kernelspec": {
   "display_name": "Python 3 (ipykernel)",
   "language": "python",
   "name": "python3"
  },
  "language_info": {
   "codemirror_mode": {
    "name": "ipython",
    "version": 3
   },
   "file_extension": ".py",
   "mimetype": "text/x-python",
   "name": "python",
   "nbconvert_exporter": "python",
   "pygments_lexer": "ipython3",
   "version": "3.8.10"
  }
 },
 "nbformat": 4,
 "nbformat_minor": 5
}
