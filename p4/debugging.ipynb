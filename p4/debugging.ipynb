{
 "cells": [
  {
   "cell_type": "code",
   "execution_count": 8,
   "id": "d5c5878f",
   "metadata": {},
   "outputs": [
    {
     "name": "stdout",
     "output_type": "stream",
     "text": [
      "<re.Match object; span=(0, 13), match='asdfd@gsa.css'>\n"
     ]
    }
   ],
   "source": [
    "import re, itertools\n",
    "import pandas as pd\n",
    "from flask import Flask, request, jsonify\n",
    "\n",
    "# regex syntax testing \n",
    "email='asdfd@gsa.css'    \n",
    "print(re.match(r\"\\w+@\\w+.\\w{3}\", email))"
   ]
  },
  {
   "cell_type": "code",
   "execution_count": 2,
   "id": "fe4cd754",
   "metadata": {},
   "outputs": [
    {
     "data": {
      "text/plain": [
       "False"
      ]
     },
     "execution_count": 2,
     "metadata": {},
     "output_type": "execute_result"
    }
   ],
   "source": [
    "from urllib.robotparser import RobotFileParser\n",
    "r = RobotFileParser(\"http://146.148.63.201:5000/robots.txt\")\n",
    "r.read()\n",
    "r.can_fetch(\"hungrycaterpillar\", \"http://146.148.63.201:5000/browse.html\") # should be False\n"
   ]
  },
  {
   "cell_type": "code",
   "execution_count": 3,
   "id": "4df8bee7",
   "metadata": {},
   "outputs": [
    {
     "data": {
      "text/plain": [
       "False"
      ]
     },
     "execution_count": 3,
     "metadata": {},
     "output_type": "execute_result"
    }
   ],
   "source": [
    "r.can_fetch(\"busyspider\", \"http://146.148.63.201:5000/browse.html\") # should be False"
   ]
  },
  {
   "cell_type": "code",
   "execution_count": 4,
   "id": "71beab51",
   "metadata": {},
   "outputs": [
    {
     "name": "stdout",
     "output_type": "stream",
     "text": [
      "{'...Ready for It?': 60, 'End Game': 80, 'I Did Something Bad': 67, 'Don’t Blame Me': 63, 'Delicate': 80, 'Look What You Made Me Do': 73, 'So It Goes...': 70, 'Gorgeous': 56, 'Getaway Car': 75, 'King of My Heart': 59, 'Dancing with Our Hands Tied': 66, 'Dress': 69, 'This Is Why We Can’t Have Nice Things': 52, 'Call It What You Want': 74, 'New Year’s Day': 44}\n"
     ]
    }
   ],
   "source": [
    "df=pd.read_csv(\"main.csv\")\n",
    "unqtitl={}\n",
    "for titl in df[\"track_title\"]:\n",
    "    if titl in unqtitl.keys():\n",
    "        unqtitl[titl]+=1\n",
    "    else:\n",
    "        unqtitl[titl]=1\n",
    "        \n",
    "print(unqtitl)"
   ]
  },
  {
   "cell_type": "code",
   "execution_count": 5,
   "id": "80f7eee4",
   "metadata": {},
   "outputs": [
    {
     "name": "stdout",
     "output_type": "stream",
     "text": [
      "{'...Ready for It?': 17, 'End Game': 22, 'I Did Something Bad': 11, 'Don’t Blame Me': 16, 'Delicate': 9, 'Look What You Made Me Do': 24, 'So It Goes...': 11, 'Gorgeous': 8, 'Getaway Car': 17, 'King of My Heart': 15, 'Dancing with Our Hands Tied': 18, 'Dress': 10, 'This Is Why We Can’t Have Nice Things': 17, 'Call It What You Want': 6, 'New Year’s Day': 21}\n"
     ]
    }
   ],
   "source": [
    "lenline={}\n",
    "for titl in df[\"track_title\"]:\n",
    "    if titl not in lenline.keys():\n",
    "        lenline[titl]=None\n",
    "for i in range(len(df)):\n",
    "    if lenline[df.iloc[i][\"track_title\"]]==None:\n",
    "        lenline[df.iloc[i][\"track_title\"]]=len(df.iloc[i][\"lyric\"])\n",
    "    if len(df.iloc[i][\"lyric\"])<lenline[df.iloc[i][\"track_title\"]]:\n",
    "        lenline[df.iloc[i][\"track_title\"]]=len(df.iloc[i][\"lyric\"])\n",
    "\n",
    "print(lenline)"
   ]
  },
  {
   "cell_type": "code",
   "execution_count": 6,
   "id": "9a3dcd1d",
   "metadata": {},
   "outputs": [
    {
     "name": "stdout",
     "output_type": "stream",
     "text": [
      "{'...Ready for It?': 62, 'End Game': 68, 'I Did Something Bad': 63, 'Don’t Blame Me': 68, 'Delicate': 43, 'Look What You Made Me Do': 60, 'So It Goes...': 54, 'Gorgeous': 68, 'Getaway Car': 61, 'King of My Heart': 63, 'Dancing with Our Hands Tied': 63, 'Dress': 64, 'This Is Why We Can’t Have Nice Things': 71, 'Call It What You Want': 59, 'New Year’s Day': 66}\n"
     ]
    }
   ],
   "source": [
    "lenline={}\n",
    "for titl in df[\"track_title\"]:\n",
    "    if titl not in lenline.keys():\n",
    "        lenline[titl]=None\n",
    "for i in range(len(df)):\n",
    "    if lenline[df.iloc[i][\"track_title\"]]==None:\n",
    "        lenline[df.iloc[i][\"track_title\"]]=len(df.iloc[i][\"lyric\"])\n",
    "    if len(df.iloc[i][\"lyric\"])>lenline[df.iloc[i][\"track_title\"]]:\n",
    "        lenline[df.iloc[i][\"track_title\"]]=len(df.iloc[i][\"lyric\"])\n",
    "\n",
    "print(lenline)"
   ]
  },
  {
   "cell_type": "code",
   "execution_count": 10,
   "id": "e155519a",
   "metadata": {},
   "outputs": [
    {
     "data": {
      "text/plain": [
       "{\"Isn't\": 36, 'it?': 33, 'I': 29, 'that': 21, 'it': 18, 'Is': 16}"
      ]
     },
     "execution_count": 10,
     "metadata": {},
     "output_type": "execute_result"
    }
   ],
   "source": [
    "wordc={}\n",
    "for i in range(len(df)):\n",
    "    if df.iloc[i][\"track_title\"] == \"Delicate\":\n",
    "          for word in df.iloc[i][\"lyric\"].split():\n",
    "                if word not in wordc.keys():\n",
    "                    wordc[word]=1\n",
    "                else:\n",
    "                    wordc[word]+=1\n",
    "                    \n",
    "dict(itertools.islice((dict(sorted(wordc.items(), key=lambda x:x[1], reverse=True))).items(), 6))\n"
   ]
  },
  {
   "cell_type": "code",
   "execution_count": null,
   "id": "38c539cf",
   "metadata": {},
   "outputs": [],
   "source": []
  }
 ],
 "metadata": {
  "kernelspec": {
   "display_name": "Python 3 (ipykernel)",
   "language": "python",
   "name": "python3"
  },
  "language_info": {
   "codemirror_mode": {
    "name": "ipython",
    "version": 3
   },
   "file_extension": ".py",
   "mimetype": "text/x-python",
   "name": "python",
   "nbconvert_exporter": "python",
   "pygments_lexer": "ipython3",
   "version": "3.8.10"
  }
 },
 "nbformat": 4,
 "nbformat_minor": 5
}
