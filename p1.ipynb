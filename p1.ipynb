{
 "cells": [
  {
   "cell_type": "code",
   "execution_count": 1,
   "id": "32f13ee1",
   "metadata": {},
   "outputs": [],
   "source": [
    "#project: p1\n",
    "#submitter: kmconrad3\n",
    "#partner: none\n",
    "#hours: 6"
   ]
  },
  {
   "cell_type": "code",
   "execution_count": 2,
   "id": "85282922",
   "metadata": {},
   "outputs": [
    {
     "data": {
      "text/plain": [
       "float"
      ]
     },
     "execution_count": 2,
     "metadata": {},
     "output_type": "execute_result"
    }
   ],
   "source": [
    "#q1\n",
    "type(7/2)"
   ]
  },
  {
   "cell_type": "code",
   "execution_count": 3,
   "id": "81aaba79",
   "metadata": {},
   "outputs": [
    {
     "data": {
      "text/plain": [
       "True"
      ]
     },
     "execution_count": 3,
     "metadata": {},
     "output_type": "execute_result"
    }
   ],
   "source": [
    "#q2\n",
    "x = 4\n",
    "maximum = 10\n",
    "minimum = 5\n",
    "error = x<minimum<maximum # True if x is outside the minimum-to-maximum range\n",
    "error"
   ]
  },
  {
   "cell_type": "code",
   "execution_count": 4,
   "id": "fc2fe598",
   "metadata": {},
   "outputs": [
    {
     "data": {
      "text/plain": [
       "True"
      ]
     },
     "execution_count": 4,
     "metadata": {},
     "output_type": "execute_result"
    }
   ],
   "source": [
    "#q3\n",
    "word = \"KAFKAESQUE\"\n",
    "suffix_match = word.lower()[-5:]\n",
    "suffix_match == 'esque'"
   ]
  },
  {
   "cell_type": "code",
   "execution_count": 5,
   "id": "0743d8d0",
   "metadata": {},
   "outputs": [
    {
     "data": {
      "text/plain": [
       "7"
      ]
     },
     "execution_count": 5,
     "metadata": {},
     "output_type": "execute_result"
    }
   ],
   "source": [
    "#q4\n",
    "def add(x,y=1):\n",
    "    return x+y\n",
    "\n",
    "add(3,4)   "
   ]
  },
  {
   "cell_type": "code",
   "execution_count": 6,
   "id": "b36d57c6",
   "metadata": {},
   "outputs": [
    {
     "data": {
      "text/plain": [
       "10"
      ]
     },
     "execution_count": 6,
     "metadata": {},
     "output_type": "execute_result"
    }
   ],
   "source": [
    "#q5\n",
    "add(9)"
   ]
  },
  {
   "cell_type": "code",
   "execution_count": 7,
   "id": "ee62ce70",
   "metadata": {},
   "outputs": [
    {
     "data": {
      "text/plain": [
       "'positive'"
      ]
     },
     "execution_count": 7,
     "metadata": {},
     "output_type": "execute_result"
    }
   ],
   "source": [
    "#q6\n",
    "x = 4\n",
    "if x<0:\n",
    "    status = \"negative\"\n",
    "elif x>0:\n",
    "    status = \"positive\"\n",
    "else:\n",
    "    status = \"zero\"\n",
    "status"
   ]
  },
  {
   "cell_type": "code",
   "execution_count": 8,
   "id": "d563e266",
   "metadata": {},
   "outputs": [
    {
     "name": "stdout",
     "output_type": "stream",
     "text": [
      "3\n",
      "4\n",
      "1\n",
      "6\n"
     ]
    },
    {
     "data": {
      "text/plain": [
       "14"
      ]
     },
     "execution_count": 8,
     "metadata": {},
     "output_type": "execute_result"
    }
   ],
   "source": [
    "#q7\n",
    "nums = [3, 4, 1, 6]\n",
    "for x in nums:\n",
    "    print(x)\n",
    "\n",
    "def smart_count(listy):\n",
    "    sum=0\n",
    "    for x in listy:\n",
    "        if x<=10 and x>0:\n",
    "            sum+=x\n",
    "        elif x<0:\n",
    "            break\n",
    "    \n",
    "    return sum\n",
    "\n",
    "smart_count(nums)"
   ]
  },
  {
   "cell_type": "code",
   "execution_count": 9,
   "id": "af34fb69",
   "metadata": {},
   "outputs": [
    {
     "data": {
      "text/plain": [
       "6"
      ]
     },
     "execution_count": 9,
     "metadata": {},
     "output_type": "execute_result"
    }
   ],
   "source": [
    "#q8\n",
    "smart_count([2, 1, 11, 3, 15, -1, 8, 2])"
   ]
  },
  {
   "cell_type": "code",
   "execution_count": 10,
   "id": "cae39e62",
   "metadata": {},
   "outputs": [
    {
     "data": {
      "text/plain": [
       "[[1, 6, {'x': 8, 'y': 5}],\n",
       " [3, 4, {'x': 9, 'y': 2}],\n",
       " [5, 2, {'x': 3, 'y': 1, 'z': 3.14}]]"
      ]
     },
     "execution_count": 10,
     "metadata": {},
     "output_type": "execute_result"
    }
   ],
   "source": [
    "#q9\n",
    "header = [\"A\", \"B\", \"C\"] \n",
    "\n",
    "coord1 = {\"x\": 8, \"y\": 5}\n",
    "coord2 = {\"x\": 9, \"y\": 2}\n",
    "coord3 = {\"x\": 3, \"y\": 1, \"z\": 3.14}\n",
    "\n",
    "rows = [\n",
    "    [1, 6, coord1],\n",
    "    [3, 4, coord2],\n",
    "    [5, 2, coord3],\n",
    "]\n",
    "\n",
    "rows"
   ]
  },
  {
   "cell_type": "code",
   "execution_count": 11,
   "id": "12468b6e",
   "metadata": {},
   "outputs": [
    {
     "data": {
      "text/plain": [
       "8"
      ]
     },
     "execution_count": 11,
     "metadata": {},
     "output_type": "execute_result"
    }
   ],
   "source": [
    "#q10\n",
    "rows[0][-1][\"x\"]"
   ]
  },
  {
   "cell_type": "code",
   "execution_count": 12,
   "id": "535596b6",
   "metadata": {},
   "outputs": [
    {
     "data": {
      "text/plain": [
       "[[1, 6, {'x': 8, 'y': 5}],\n",
       " [3, 9999, {'x': 9, 'y': 2}],\n",
       " [5, 2, {'x': 3, 'y': 1, 'z': 3.14}]]"
      ]
     },
     "execution_count": 12,
     "metadata": {},
     "output_type": "execute_result"
    }
   ],
   "source": [
    "#q11\n",
    "import copy\n",
    "v2 = copy.copy(rows)\n",
    "v2[0] = 8888    # first change\n",
    "v2[1][1] = 9999 # second change\n",
    "\n",
    "rows"
   ]
  },
  {
   "cell_type": "code",
   "execution_count": 13,
   "id": "2b998320",
   "metadata": {},
   "outputs": [
    {
     "data": {
      "text/plain": [
       "10007"
      ]
     },
     "execution_count": 13,
     "metadata": {},
     "output_type": "execute_result"
    }
   ],
   "source": [
    "#q12\n",
    "adder=0\n",
    "for spot in rows:\n",
    "    adder+=spot[header.index(\"B\")]\n",
    "    \n",
    "adder"
   ]
  },
  {
   "cell_type": "code",
   "execution_count": 14,
   "id": "17f993c6",
   "metadata": {},
   "outputs": [
    {
     "data": {
      "text/plain": [
       "[[5, 2, {'x': 3, 'y': 1, 'z': 3.14}],\n",
       " [1, 6, {'x': 8, 'y': 5}],\n",
       " [3, 9999, {'x': 9, 'y': 2}]]"
      ]
     },
     "execution_count": 14,
     "metadata": {},
     "output_type": "execute_result"
    }
   ],
   "source": [
    "#q13\n",
    "rows.sort(key=lambda row: row[header.index(\"B\")], reverse=False)\n",
    "rows"
   ]
  },
  {
   "cell_type": "code",
   "execution_count": 15,
   "id": "1ba42d06",
   "metadata": {},
   "outputs": [
    {
     "data": {
      "text/plain": [
       "339.962745715148"
      ]
     },
     "execution_count": 15,
     "metadata": {},
     "output_type": "execute_result"
    }
   ],
   "source": [
    "#q14\n",
    "import json\n",
    "f = open(\"usd.json\")\n",
    "data = json.load(f)\n",
    "f.close()\n",
    "\n",
    "data['eur']['rate']*400"
   ]
  },
  {
   "cell_type": "code",
   "execution_count": 16,
   "id": "a7997035",
   "metadata": {},
   "outputs": [
    {
     "data": {
      "text/plain": [
       "1.5"
      ]
     },
     "execution_count": 16,
     "metadata": {},
     "output_type": "execute_result"
    }
   ],
   "source": [
    "#q15\n",
    "def divide(x,y):\n",
    "    if y==0:\n",
    "        return float('nan')\n",
    "    else:\n",
    "        return x/y\n",
    "    \n",
    "divide(3,2)"
   ]
  },
  {
   "cell_type": "code",
   "execution_count": 17,
   "id": "e0a71fc6",
   "metadata": {},
   "outputs": [
    {
     "data": {
      "text/plain": [
       "nan"
      ]
     },
     "execution_count": 17,
     "metadata": {},
     "output_type": "execute_result"
    }
   ],
   "source": [
    "#q16\n",
    "divide(-3,0)"
   ]
  },
  {
   "cell_type": "code",
   "execution_count": 18,
   "id": "824ecc55",
   "metadata": {},
   "outputs": [
    {
     "data": {
      "text/plain": [
       "[2013, 2014, 2015, 2016, 2017, 2018]"
      ]
     },
     "execution_count": 18,
     "metadata": {},
     "output_type": "execute_result"
    }
   ],
   "source": [
    "#q17\n",
    "import os, pandas\n",
    "\n",
    "years={}\n",
    "for x in os.listdir(\"home-computers\"):\n",
    "    if x[:5]==\"ACSDT\":\n",
    "        years[int(x[7:11])]= pandas.read_csv(os.path.join(\"home-computers\", x),skiprows=1)\n",
    "    \n",
    "sorted(list(years.keys()))"
   ]
  },
  {
   "cell_type": "code",
   "execution_count": 19,
   "id": "66e3343c",
   "metadata": {},
   "outputs": [
    {
     "data": {
      "text/plain": [
       "2371960"
      ]
     },
     "execution_count": 19,
     "metadata": {},
     "output_type": "execute_result"
    }
   ],
   "source": [
    "#q18\n",
    "df = years[2018]\n",
    "df.loc[df[\"Geographic Area Name\"]==\"Wisconsin\",\"Estimate!!Total\"].values[0]"
   ]
  },
  {
   "cell_type": "code",
   "execution_count": 20,
   "id": "8bd18500",
   "metadata": {},
   "outputs": [
    {
     "data": {
      "text/plain": [
       "10285814"
      ]
     },
     "execution_count": 20,
     "metadata": {},
     "output_type": "execute_result"
    }
   ],
   "source": [
    "#q19\n",
    "sum(df[\"Estimate!!Total!!No Computer\"])"
   ]
  },
  {
   "cell_type": "code",
   "execution_count": 21,
   "id": "7caedaee",
   "metadata": {},
   "outputs": [
    {
     "data": {
      "text/plain": [
       "0.12375641594322287"
      ]
     },
     "execution_count": 21,
     "metadata": {},
     "output_type": "execute_result"
    }
   ],
   "source": [
    "#q20\n",
    "(df[\"Margin of Error!!Total!!No Computer\"]/df[\"Estimate!!Total!!No Computer\"]).max()"
   ]
  },
  {
   "cell_type": "code",
   "execution_count": 22,
   "id": "11384a1b",
   "metadata": {},
   "outputs": [
    {
     "data": {
      "text/plain": [
       "{'Illinois': 8.524143737625552,\n",
       " 'Indiana': 9.463486214247707,\n",
       " 'Iowa': 9.468929459023103,\n",
       " 'Michigan': 8.936374942955922,\n",
       " 'Minnesota': 7.491847623005652,\n",
       " 'Wisconsin': 9.582497175331794}"
      ]
     },
     "execution_count": 22,
     "metadata": {},
     "output_type": "execute_result"
    }
   ],
   "source": [
    "#q21\n",
    "states=[\"Illinois\", \"Indiana\", \"Iowa\", \"Michigan\", \"Minnesota\", \"Wisconsin\"]\n",
    "percentnocomp = {}\n",
    "for state in states:\n",
    "    total = df.loc[df[\"Geographic Area Name\"]== state,\"Estimate!!Total\"].values[0]\n",
    "    num_no_computer = df.loc[df[\"Geographic Area Name\"]== state,\"Estimate!!Total!!No Computer\"].values[0]\n",
    "    percentnocomp[state] = (num_no_computer/total)*100\n",
    "\n",
    "percentnocomp"
   ]
  },
  {
   "cell_type": "code",
   "execution_count": 23,
   "id": "0a9a3d53",
   "metadata": {},
   "outputs": [
    {
     "data": {
      "text/plain": [
       "<AxesSubplot:xlabel='Geographic Area Name', ylabel='% of Households w/o Computers'>"
      ]
     },
     "execution_count": 23,
     "metadata": {},
     "output_type": "execute_result"
    },
    {
     "data": {
      "image/png": "[encoded data removed]",
      "text/plain": [
       "<Figure size 432x288 with 1 Axes>"
      ]
     },
     "metadata": {
      "needs_background": "light"
     },
     "output_type": "display_data"
    }
   ],
   "source": [
    "#q22\n",
    "p22 = pandas.Series(percentnocomp).plot.bar()\n",
    "p22.set_xlabel(\"Geographic Area Name\")\n",
    "p22.set_ylabel(\"% of Households w/o Computers\")\n",
    "p22"
   ]
  },
  {
   "cell_type": "code",
   "execution_count": 24,
   "id": "b1233a9c",
   "metadata": {},
   "outputs": [
    {
     "data": {
      "text/plain": [
       "<AxesSubplot:xlabel='Year', ylabel='WI Households without Computers (thousands)'>"
      ]
     },
     "execution_count": 24,
     "metadata": {},
     "output_type": "execute_result"
    },
    {
     "data": {
      "image/png": "[encoded data removed]",
      "text/plain": [
       "<Figure size 432x288 with 1 Axes>"
      ]
     },
     "metadata": {
      "needs_background": "light"
     },
     "output_type": "display_data"
    }
   ],
   "source": [
    "#q23\n",
    "tabrelation = {}\n",
    "for year in sorted(list(years.keys())):\n",
    "    df = years[year]\n",
    "    num = df.loc[df[\"Geographic Area Name\"]== \"Wisconsin\",\"Estimate!!Total!!No Computer\"].values[0]\n",
    "    tabrelation[year] = num/1000\n",
    "    \n",
    "tabrelationgraph = pandas.Series(tabrelation).plot.line()\n",
    "tabrelationgraph.set_xlabel(\"Year\")\n",
    "tabrelationgraph.set_ylabel(\"WI Households without Computers (thousands)\")\n",
    "tabrelationgraph"
   ]
  },
  {
   "cell_type": "code",
   "execution_count": 25,
   "id": "e88d749b",
   "metadata": {},
   "outputs": [
    {
     "data": {
      "text/plain": [
       "<AxesSubplot:xlabel='Smartphones(millions)', ylabel='Tablets(millions)'>"
      ]
     },
     "execution_count": 25,
     "metadata": {},
     "output_type": "execute_result"
    },
    {
     "data": {
      "image/png": "[encoded data removed]",
      "text/plain": [
       "<Figure size 432x288 with 1 Axes>"
      ]
     },
     "metadata": {
      "needs_background": "light"
     },
     "output_type": "display_data"
    }
   ],
   "source": [
    "#q24\n",
    "q24_dict = {}\n",
    "phones = []\n",
    "tablets = []\n",
    "for year in sorted(list(years.keys())):\n",
    "    df = years[year]\n",
    "    if \"Estimate!!Total!!Has one or more types of computing devices!!Smartphone\" in df.columns and \"Estimate!!Total!!Has one or more types of computing devices!!Tablet or other portable wireless computer\" in df.columns:\n",
    "        phones += list(df[\"Estimate!!Total!!Has one or more types of computing devices!!Smartphone\"])\n",
    "        tablets+=list(df[\"Estimate!!Total!!Has one or more types of computing devices!!Tablet or other portable wireless computer\"])\n",
    "s1 = pandas.Series(phones)/1000000\n",
    "s2 = pandas.Series(tablets)/1000000\n",
    "df = pandas.DataFrame({\n",
    "    \"Smartphones(millions)\": s1,\n",
    "    \"Tablets(millions)\": s2\n",
    "})\n",
    "df.plot.scatter(x = \"Smartphones(millions)\",y=\"Tablets(millions)\")"
   ]
  },
  {
   "cell_type": "code",
   "execution_count": 26,
   "id": "4ba25257",
   "metadata": {},
   "outputs": [
    {
     "data": {
      "text/plain": [
       "'commit 4e4128313b8d5b5e5d04f2e8e585f64f7c5831a4'"
      ]
     },
     "execution_count": 26,
     "metadata": {},
     "output_type": "execute_result"
    }
   ],
   "source": [
    "#q25\n",
    "from subprocess import check_output\n",
    "gitlogoutput = str(check_output([\"git\",\"log\"], cwd=\"cs320-p1\"),encoding=\"utf-8\")\n",
    "gitlogoutput.partition('\\n')[0]"
   ]
  },
  {
   "cell_type": "code",
   "execution_count": 27,
   "id": "73d4d021",
   "metadata": {
    "scrolled": true
   },
   "outputs": [
    {
     "data": {
      "text/plain": [
       "['4e4128313b8d5b5e5d04f2e8e585f64f7c5831a4',\n",
       " 'f637df3f45bc389e1035cc3aadcf5d81a55f0dc4',\n",
       " 'c10b5a6cb4f06c96f6f221df2d5ec33af767d5c5',\n",
       " 'f37e610ce055a3d894baac2d9449e6eb77c72320',\n",
       " '6f5ca9327e986315ffcacddce5d9d6195c0913b7',\n",
       " '761627a3ad9ee681f27211326e9149f01764ceee',\n",
       " 'b0df6dbe111f9e28fc3a9c9b841cde5c20c365f9',\n",
       " '6d7beafb8e79b7a92fed8e67673a33bb7f607dbe']"
      ]
     },
     "execution_count": 27,
     "metadata": {},
     "output_type": "execute_result"
    }
   ],
   "source": [
    "#q26\n",
    "commitnums=[]  \n",
    "for x in gitlogoutput.split('\\n\\ncommit '):\n",
    "    if x== gitlogoutput.split('\\n\\ncommit ')[0]:\n",
    "        commitnums.append((x[7:47]))\n",
    "    else:\n",
    "        commitnums.append((x[0:40]))\n",
    "        \n",
    "commitnums\n",
    "# option2: use enumerate next time to loop through both index & values\n",
    "# option3: for x in gitlogoutput.split('\\n'):\n",
    "#              if x.startswith('commit'):"
   ]
  },
  {
   "cell_type": "code",
   "execution_count": 28,
   "id": "34fd4cfc",
   "metadata": {},
   "outputs": [
    {
     "name": "stderr",
     "output_type": "stream",
     "text": [
      "Note: switching to '4e4128313b8d5b5e5d04f2e8e585f64f7c5831a4'.\n",
      "\n",
      "You are in 'detached HEAD' state. You can look around, make experimental\n",
      "changes and commit them, and you can discard any commits you make in this\n",
      "state without impacting any branches by switching back to a branch.\n",
      "\n",
      "If you want to create a new branch to retain commits you create, you may\n",
      "do so (now or later) by using -c with the switch command. Example:\n",
      "\n",
      "  git switch -c <new-branch-name>\n",
      "\n",
      "Or undo this operation with:\n",
      "\n",
      "  git switch -\n",
      "\n",
      "Turn off this advice by setting config variable advice.detachedHead to false\n",
      "\n",
      "HEAD is now at 4e41283 only make one pass over list to count all\n",
      "Previous HEAD position was 4e41283 only make one pass over list to count all\n",
      "HEAD is now at f637df3 only make one pass over list to count all\n",
      "Previous HEAD position was f637df3 only make one pass over list to count all\n",
      "HEAD is now at c10b5a6 optimize: only compute count once per unique word\n",
      "Previous HEAD position was c10b5a6 optimize: only compute count once per unique word\n",
      "HEAD is now at f37e610 do not repeatedly re-read file, use with to automatically close\n",
      "Previous HEAD position was f37e610 do not repeatedly re-read file, use with to automatically close\n",
      "HEAD is now at 6f5ca93 ignore case, usage line\n",
      "Previous HEAD position was 6f5ca93 ignore case, usage line\n",
      "HEAD is now at 761627a bugfix\n",
      "Previous HEAD position was 761627a bugfix\n",
      "HEAD is now at b0df6db support wildcards\n",
      "Previous HEAD position was b0df6db support wildcards\n",
      "HEAD is now at 6d7beaf count a specific word\n",
      "Previous HEAD position was 6d7beaf count a specific word\n",
      "Switched to branch 'main'\n"
     ]
    },
    {
     "data": {
      "text/plain": [
       "{'4e4128313b8d5b5e5d04f2e8e585f64f7c5831a4': 43,\n",
       " 'f637df3f45bc389e1035cc3aadcf5d81a55f0dc4': 40,\n",
       " 'c10b5a6cb4f06c96f6f221df2d5ec33af767d5c5': 40,\n",
       " 'f37e610ce055a3d894baac2d9449e6eb77c72320': 40,\n",
       " '6f5ca9327e986315ffcacddce5d9d6195c0913b7': 39,\n",
       " '761627a3ad9ee681f27211326e9149f01764ceee': 35,\n",
       " 'b0df6dbe111f9e28fc3a9c9b841cde5c20c365f9': 35,\n",
       " '6d7beafb8e79b7a92fed8e67673a33bb7f607dbe': 21}"
      ]
     },
     "execution_count": 28,
     "metadata": {},
     "output_type": "execute_result"
    }
   ],
   "source": [
    "#q27\n",
    "commitfiles = {}\n",
    "for i in commitnums:\n",
    "    check_output([\"git\",\"checkout\",i],cwd=\"cs320-p1\")\n",
    "    linecount = 0\n",
    "    f = open('cs320-p1/wc.py')\n",
    "    lines = list(f)\n",
    "    f.close\n",
    "    commitfiles[i] = len(lines)\n",
    "check_output([\"git\",\"checkout\",\"main\"],cwd=\"cs320-p1\")\n",
    "\n",
    "commitfiles"
   ]
  },
  {
   "cell_type": "code",
   "execution_count": 29,
   "id": "ba421be8",
   "metadata": {},
   "outputs": [
    {
     "data": {
      "text/plain": [
       "{'A': 1, 'B': 1, 'C': 2}"
      ]
     },
     "execution_count": 29,
     "metadata": {},
     "output_type": "execute_result"
    }
   ],
   "source": [
    "#q28\n",
    "import json\n",
    "f = open('input.txt', \"w\")\n",
    "f.write(\"A B C C\")\n",
    "f.close()\n",
    "thetext = check_output([\"python3\", \"cs320-p1/wc.py\", \"input.txt\", \"ALL\",])\n",
    "data = json.loads(thetext)\n",
    "\n",
    "data"
   ]
  },
  {
   "cell_type": "code",
   "execution_count": 30,
   "id": "cc4a8d13",
   "metadata": {},
   "outputs": [
    {
     "name": "stderr",
     "output_type": "stream",
     "text": [
      "Note: switching to '4e4128313b8d5b5e5d04f2e8e585f64f7c5831a4'.\n",
      "\n",
      "You are in 'detached HEAD' state. You can look around, make experimental\n",
      "changes and commit them, and you can discard any commits you make in this\n",
      "state without impacting any branches by switching back to a branch.\n",
      "\n",
      "If you want to create a new branch to retain commits you create, you may\n",
      "do so (now or later) by using -c with the switch command. Example:\n",
      "\n",
      "  git switch -c <new-branch-name>\n",
      "\n",
      "Or undo this operation with:\n",
      "\n",
      "  git switch -\n",
      "\n",
      "Turn off this advice by setting config variable advice.detachedHead to false\n",
      "\n",
      "HEAD is now at 4e41283 only make one pass over list to count all\n",
      "Previous HEAD position was 4e41283 only make one pass over list to count all\n",
      "HEAD is now at f637df3 only make one pass over list to count all\n",
      "Traceback (most recent call last):\n",
      "  File \"cs320-p1/wc.py\", line 40, in <module>\n",
      "    main()\n",
      "  File \"cs320-p1/wc.py\", line 33, in main\n",
      "    counts[word] += 1\n",
      "KeyError: 'A'\n",
      "Previous HEAD position was f637df3 only make one pass over list to count all\n",
      "HEAD is now at c10b5a6 optimize: only compute count once per unique word\n",
      "Previous HEAD position was c10b5a6 optimize: only compute count once per unique word\n",
      "HEAD is now at f37e610 do not repeatedly re-read file, use with to automatically close\n",
      "Previous HEAD position was f37e610 do not repeatedly re-read file, use with to automatically close\n",
      "HEAD is now at 6f5ca93 ignore case, usage line\n",
      "Previous HEAD position was 6f5ca93 ignore case, usage line\n",
      "HEAD is now at 761627a bugfix\n",
      "Previous HEAD position was 761627a bugfix\n",
      "HEAD is now at b0df6db support wildcards\n",
      "Previous HEAD position was b0df6db support wildcards\n",
      "HEAD is now at 6d7beaf count a specific word\n",
      "Previous HEAD position was 6d7beaf count a specific word\n",
      "Switched to branch 'main'\n"
     ]
    },
    {
     "data": {
      "text/plain": [
       "['f637df3f45bc389e1035cc3aadcf5d81a55f0dc4']"
      ]
     },
     "execution_count": 30,
     "metadata": {},
     "output_type": "execute_result"
    }
   ],
   "source": [
    "#q29\n",
    "commitsnowork=[]\n",
    "for i in commitnums:\n",
    "    check_output([\"git\",\"checkout\",i],cwd=\"cs320-p1\")\n",
    "    try:\n",
    "        json.loads(check_output([\"python3\", \"cs320-p1/wc.py\", \"input.txt\", \"ALL\",]))\n",
    "    except:\n",
    "        commitsnowork.append(i)\n",
    "        \n",
    "check_output([\"git\",\"checkout\",\"main\"],cwd=\"cs320-p1\")\n",
    "commitsnowork"
   ]
  },
  {
   "cell_type": "code",
   "execution_count": 31,
   "id": "4b14734f",
   "metadata": {},
   "outputs": [
    {
     "name": "stderr",
     "output_type": "stream",
     "text": [
      "Note: switching to '4e4128313b8d5b5e5d04f2e8e585f64f7c5831a4'.\n",
      "\n",
      "You are in 'detached HEAD' state. You can look around, make experimental\n",
      "changes and commit them, and you can discard any commits you make in this\n",
      "state without impacting any branches by switching back to a branch.\n",
      "\n",
      "If you want to create a new branch to retain commits you create, you may\n",
      "do so (now or later) by using -c with the switch command. Example:\n",
      "\n",
      "  git switch -c <new-branch-name>\n",
      "\n",
      "Or undo this operation with:\n",
      "\n",
      "  git switch -\n",
      "\n",
      "Turn off this advice by setting config variable advice.detachedHead to false\n",
      "\n",
      "HEAD is now at 4e41283 only make one pass over list to count all\n",
      "HEAD is now at 4e41283 only make one pass over list to count all\n",
      "HEAD is now at 4e41283 only make one pass over list to count all\n",
      "HEAD is now at 4e41283 only make one pass over list to count all\n",
      "HEAD is now at 4e41283 only make one pass over list to count all\n",
      "HEAD is now at 4e41283 only make one pass over list to count all\n",
      "Switched to branch 'main'\n"
     ]
    },
    {
     "data": {
      "text/plain": [
       "<AxesSubplot:xlabel='Words', ylabel='Milliseconds'>"
      ]
     },
     "execution_count": 31,
     "metadata": {},
     "output_type": "execute_result"
    },
    {
     "data": {
      "image/png": "[encoded data removed]",
      "text/plain": [
       "<Figure size 432x288 with 1 Axes>"
      ]
     },
     "metadata": {
      "needs_background": "light"
     },
     "output_type": "display_data"
    }
   ],
   "source": [
    "#q30\n",
    "import time\n",
    "\n",
    "def fcontenttime(comnum):\n",
    "    commitgraph = {}\n",
    "    words=[0,200,400,600,800,1000]\n",
    "\n",
    "    for x in words:\n",
    "        check_output([\"git\",\"checkout\",comnum],cwd=\"cs320-p1\")\n",
    "        f = open('input.txt','w')\n",
    "        for i in range(x):\n",
    "            f.write(str(i)+ \"\\n\")\n",
    "        f.close()\n",
    "        time1 = time.time()\n",
    "        check_output([\"python3\", \"cs320-p1/wc.py\", \"input.txt\", \"ALL\",])\n",
    "        time2 = time.time()\n",
    "        timems = (time2-time1)*1000\n",
    "        commitgraph[x]=timems\n",
    "\n",
    "    check_output([\"git\",\"checkout\",\"main\"],cwd=\"cs320-p1\")\n",
    "    \n",
    "    tabrelationgraph = pandas.Series(commitgraph).plot(xticks=words)\n",
    "    tabrelationgraph.set_xlabel(\"Words\")\n",
    "    tabrelationgraph.set_ylabel(\"Milliseconds\")\n",
    "    tabrelationgraph.set_ylim(0)\n",
    "    return tabrelationgraph\n",
    "    \n",
    "fcontenttime(commitnums[0])"
   ]
  },
  {
   "cell_type": "code",
   "execution_count": 32,
   "id": "d6c2b574",
   "metadata": {},
   "outputs": [
    {
     "name": "stderr",
     "output_type": "stream",
     "text": [
      "Note: switching to 'f37e610ce055a3d894baac2d9449e6eb77c72320'.\n",
      "\n",
      "You are in 'detached HEAD' state. You can look around, make experimental\n",
      "changes and commit them, and you can discard any commits you make in this\n",
      "state without impacting any branches by switching back to a branch.\n",
      "\n",
      "If you want to create a new branch to retain commits you create, you may\n",
      "do so (now or later) by using -c with the switch command. Example:\n",
      "\n",
      "  git switch -c <new-branch-name>\n",
      "\n",
      "Or undo this operation with:\n",
      "\n",
      "  git switch -\n",
      "\n",
      "Turn off this advice by setting config variable advice.detachedHead to false\n",
      "\n",
      "HEAD is now at f37e610 do not repeatedly re-read file, use with to automatically close\n",
      "HEAD is now at f37e610 do not repeatedly re-read file, use with to automatically close\n",
      "HEAD is now at f37e610 do not repeatedly re-read file, use with to automatically close\n",
      "HEAD is now at f37e610 do not repeatedly re-read file, use with to automatically close\n",
      "HEAD is now at f37e610 do not repeatedly re-read file, use with to automatically close\n",
      "HEAD is now at f37e610 do not repeatedly re-read file, use with to automatically close\n",
      "Previous HEAD position was f37e610 do not repeatedly re-read file, use with to automatically close\n",
      "Switched to branch 'main'\n"
     ]
    },
    {
     "data": {
      "text/plain": [
       "<AxesSubplot:xlabel='Words', ylabel='Milliseconds'>"
      ]
     },
     "execution_count": 32,
     "metadata": {},
     "output_type": "execute_result"
    },
    {
     "data": {
      "image/png": "[encoded data removed]",
      "text/plain": [
       "<Figure size 432x288 with 1 Axes>"
      ]
     },
     "metadata": {
      "needs_background": "light"
     },
     "output_type": "display_data"
    }
   ],
   "source": [
    "#q31\n",
    "fcontenttime(commitnums[3])"
   ]
  },
  {
   "cell_type": "code",
   "execution_count": 33,
   "id": "20b5a91a",
   "metadata": {},
   "outputs": [
    {
     "name": "stderr",
     "output_type": "stream",
     "text": [
      "Note: switching to '6f5ca9327e986315ffcacddce5d9d6195c0913b7'.\n",
      "\n",
      "You are in 'detached HEAD' state. You can look around, make experimental\n",
      "changes and commit them, and you can discard any commits you make in this\n",
      "state without impacting any branches by switching back to a branch.\n",
      "\n",
      "If you want to create a new branch to retain commits you create, you may\n",
      "do so (now or later) by using -c with the switch command. Example:\n",
      "\n",
      "  git switch -c <new-branch-name>\n",
      "\n",
      "Or undo this operation with:\n",
      "\n",
      "  git switch -\n",
      "\n",
      "Turn off this advice by setting config variable advice.detachedHead to false\n",
      "\n",
      "HEAD is now at 6f5ca93 ignore case, usage line\n",
      "HEAD is now at 6f5ca93 ignore case, usage line\n",
      "HEAD is now at 6f5ca93 ignore case, usage line\n",
      "HEAD is now at 6f5ca93 ignore case, usage line\n",
      "HEAD is now at 6f5ca93 ignore case, usage line\n",
      "HEAD is now at 6f5ca93 ignore case, usage line\n",
      "Previous HEAD position was 6f5ca93 ignore case, usage line\n",
      "Switched to branch 'main'\n"
     ]
    },
    {
     "data": {
      "text/plain": [
       "<AxesSubplot:xlabel='Words', ylabel='Milliseconds'>"
      ]
     },
     "execution_count": 33,
     "metadata": {},
     "output_type": "execute_result"
    },
    {
     "data": {
      "image/png": "[encoded data removed]",
      "text/plain": [
       "<Figure size 432x288 with 1 Axes>"
      ]
     },
     "metadata": {
      "needs_background": "light"
     },
     "output_type": "display_data"
    }
   ],
   "source": [
    "#q32\n",
    "fcontenttime(commitnums[4])"
   ]
  },
  {
   "cell_type": "code",
   "execution_count": null,
   "id": "47fd40b8",
   "metadata": {},
   "outputs": [],
   "source": []
  }
 ],
 "metadata": {
  "kernelspec": {
   "display_name": "Python 3 (ipykernel)",
   "language": "python",
   "name": "python3"
  },
  "language_info": {
   "codemirror_mode": {
    "name": "ipython",
    "version": 3
   },
   "file_extension": ".py",
   "mimetype": "text/x-python",
   "name": "python",
   "nbconvert_exporter": "python",
   "pygments_lexer": "ipython3",
   "version": "3.8.10"
  }
 },
 "nbformat": 4,
 "nbformat_minor": 5
}
