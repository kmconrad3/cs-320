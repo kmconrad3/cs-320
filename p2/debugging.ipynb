{
 "cells": [
  {
   "cell_type": "code",
   "execution_count": 1,
   "id": "2e59b663",
   "metadata": {},
   "outputs": [],
   "source": [
    "from tree import *\n",
    "%load_ext autoreload\n",
    "# %autoreload 2\n",
    "%reload_ext autoreload"
   ]
  },
  {
   "cell_type": "code",
   "execution_count": 2,
   "id": "0ce132c0",
   "metadata": {},
   "outputs": [],
   "source": [
    "#testing ZippedCSVReader\n",
    "tree_reader = ZippedCSVReader(\"trees.zip\")\n",
    "data_reader = ZippedCSVReader(\"mini.zip\")\n",
    "loan_reader = ZippedCSVReader(\"loans.zip\")"
   ]
  },
  {
   "cell_type": "code",
   "execution_count": 3,
   "id": "b1140c03",
   "metadata": {},
   "outputs": [
    {
     "name": "stdout",
     "output_type": "stream",
     "text": [
      "<generator object ZippedCSVReader.rows at 0x7f06250f3970>\n"
     ]
    }
   ],
   "source": [
    "print(loan_reader.rows(\"loans.zip\"))"
   ]
  },
  {
   "cell_type": "code",
   "execution_count": 4,
   "id": "c1b40fe6",
   "metadata": {},
   "outputs": [],
   "source": [
    "##print(dict_list[0])\n",
    "\n",
    "#dict_generator = data_reader.rows()\n",
    "#print(sum(1 for _ in dict_generator))"
   ]
  },
  {
   "cell_type": "code",
   "execution_count": 5,
   "id": "f74bd9b1",
   "metadata": {},
   "outputs": [],
   "source": [
    "loan = Loan(40, \"Home improvement\", \"Asian\", \"Male\", 120, \"approve\")"
   ]
  },
  {
   "cell_type": "code",
   "execution_count": 6,
   "id": "667d740e",
   "metadata": {},
   "outputs": [
    {
     "data": {
      "text/plain": [
       "True"
      ]
     },
     "execution_count": 6,
     "metadata": {},
     "output_type": "execute_result"
    }
   ],
   "source": [
    "loan = Loan(40, \"Home improvement\", \"Asian\", \"Male\", 120, \"approve\")\n",
    "root = build_tree(list(tree_reader.rows(\"simple.csv\")))\n",
    "root.predict(loan)"
   ]
  },
  {
   "cell_type": "code",
   "execution_count": null,
   "id": "662ff450",
   "metadata": {},
   "outputs": [],
   "source": []
  }
 ],
 "metadata": {
  "kernelspec": {
   "display_name": "Python 3 (ipykernel)",
   "language": "python",
   "name": "python3"
  },
  "language_info": {
   "codemirror_mode": {
    "name": "ipython",
    "version": 3
   },
   "file_extension": ".py",
   "mimetype": "text/x-python",
   "name": "python",
   "nbconvert_exporter": "python",
   "pygments_lexer": "ipython3",
   "version": "3.8.10"
  }
 },
 "nbformat": 4,
 "nbformat_minor": 5
}
